{
  "nbformat": 4,
  "nbformat_minor": 0,
  "metadata": {
    "colab": {
      "provenance": [],
      "machine_shape": "hm",
      "gpuType": "A100"
    },
    "kernelspec": {
      "name": "python3",
      "display_name": "Python 3"
    },
    "language_info": {
      "name": "python"
    },
    "accelerator": "GPU"
  },
  "cells": [
    {
      "cell_type": "code",
      "source": [
        "!pip install coremltools\n",
        "!pip install scikit-learn==1.1.2"
      ],
      "metadata": {
        "colab": {
          "base_uri": "https://localhost:8080/"
        },
        "id": "9dOz-MAd5uEz",
        "outputId": "4e27044a-3d0f-48d3-cfd9-318a3d5c4ac7"
      },
      "execution_count": 1,
      "outputs": [
        {
          "output_type": "stream",
          "name": "stdout",
          "text": [
            "Requirement already satisfied: coremltools in /usr/local/lib/python3.10/dist-packages (7.2)\n",
            "Requirement already satisfied: numpy>=1.14.5 in /usr/local/lib/python3.10/dist-packages (from coremltools) (1.25.2)\n",
            "Requirement already satisfied: protobuf<=4.0.0,>=3.1.0 in /usr/local/lib/python3.10/dist-packages (from coremltools) (3.20.3)\n",
            "Requirement already satisfied: sympy in /usr/local/lib/python3.10/dist-packages (from coremltools) (1.12.1)\n",
            "Requirement already satisfied: tqdm in /usr/local/lib/python3.10/dist-packages (from coremltools) (4.66.4)\n",
            "Requirement already satisfied: packaging in /usr/local/lib/python3.10/dist-packages (from coremltools) (24.1)\n",
            "Requirement already satisfied: attrs>=21.3.0 in /usr/local/lib/python3.10/dist-packages (from coremltools) (23.2.0)\n",
            "Requirement already satisfied: cattrs in /usr/local/lib/python3.10/dist-packages (from coremltools) (23.2.3)\n",
            "Requirement already satisfied: pyaml in /usr/local/lib/python3.10/dist-packages (from coremltools) (24.4.0)\n",
            "Requirement already satisfied: exceptiongroup>=1.1.1 in /usr/local/lib/python3.10/dist-packages (from cattrs->coremltools) (1.2.1)\n",
            "Requirement already satisfied: typing-extensions!=4.6.3,>=4.1.0 in /usr/local/lib/python3.10/dist-packages (from cattrs->coremltools) (4.12.2)\n",
            "Requirement already satisfied: PyYAML in /usr/local/lib/python3.10/dist-packages (from pyaml->coremltools) (6.0.1)\n",
            "Requirement already satisfied: mpmath<1.4.0,>=1.1.0 in /usr/local/lib/python3.10/dist-packages (from sympy->coremltools) (1.3.0)\n",
            "Requirement already satisfied: scikit-learn==1.1.2 in /usr/local/lib/python3.10/dist-packages (1.1.2)\n",
            "Requirement already satisfied: numpy>=1.17.3 in /usr/local/lib/python3.10/dist-packages (from scikit-learn==1.1.2) (1.25.2)\n",
            "Requirement already satisfied: scipy>=1.3.2 in /usr/local/lib/python3.10/dist-packages (from scikit-learn==1.1.2) (1.11.4)\n",
            "Requirement already satisfied: joblib>=1.0.0 in /usr/local/lib/python3.10/dist-packages (from scikit-learn==1.1.2) (1.4.2)\n",
            "Requirement already satisfied: threadpoolctl>=2.0.0 in /usr/local/lib/python3.10/dist-packages (from scikit-learn==1.1.2) (3.5.0)\n"
          ]
        }
      ]
    },
    {
      "cell_type": "code",
      "execution_count": 2,
      "metadata": {
        "colab": {
          "base_uri": "https://localhost:8080/"
        },
        "id": "k9E4G7awXecM",
        "outputId": "99c68744-7815-469b-ac72-d5e844360e86"
      },
      "outputs": [
        {
          "output_type": "stream",
          "name": "stderr",
          "text": [
            "WARNING:coremltools:XGBoost version 2.0.3 has not been tested with coremltools. You may run into unexpected errors. XGBoost 1.4.2 is the most recent version that has been tested.\n",
            "WARNING:coremltools:TensorFlow version 2.15.0 has not been tested with coremltools. You may run into unexpected errors. TensorFlow 2.12.0 is the most recent version that has been tested.\n",
            "WARNING:coremltools:Torch version 2.3.0+cu121 has not been tested with coremltools. You may run into unexpected errors. Torch 2.2.0 is the most recent version that has been tested.\n",
            "WARNING:coremltools:Failed to load _MLModelProxy: No module named 'coremltools.libcoremlpython'\n"
          ]
        }
      ],
      "source": [
        "import pandas as pd\n",
        "import numpy as np\n",
        "from sklearn.model_selection import train_test_split\n",
        "import coremltools as ct"
      ]
    },
    {
      "cell_type": "markdown",
      "source": [
        "Loading and Processing the Data"
      ],
      "metadata": {
        "id": "d92H9rJVYZb_"
      }
    },
    {
      "cell_type": "code",
      "source": [
        "sayo_df = pd.read_csv('/content/SaYoPillow.csv')\n",
        "swell_df_train = pd.read_csv('/content/train_selected.csv')\n",
        "swell_df_test = pd.read_csv('/content/test_selected.csv')\n",
        "\n",
        "\n",
        "swell_mapping = {'no stress': 0, 'time pressure': 1, 'interruption': 2}\n",
        "\n",
        "# Map the values in the 'stress_level' column\n",
        "swell_df_train['condition'] = swell_df_train['condition'].map(swell_mapping)\n",
        "swell_df_test['condition'] = swell_df_test['condition'].map(swell_mapping)\n",
        "\n",
        "# map values in the sayo df to match the swell df\n",
        "sayo_mapping = {0:0, 1:1, 2:1, 3:2, 4:2}\n",
        "sayo_df['sl'] = sayo_df['sl'].map(sayo_mapping)"
      ],
      "metadata": {
        "id": "c1jQ66-_X411"
      },
      "execution_count": 4,
      "outputs": []
    },
    {
      "cell_type": "code",
      "source": [
        "# renaming the sayo dataframe columns\n",
        "# Dictionary to map old column names to new column names\n",
        "column_mapping = {\n",
        "    't': 'body temperature',\n",
        "    'bo': 'blood oxygen levels',\n",
        "    'sr.1': 'number of hours of sleep',\n",
        "}\n",
        "\n",
        "\n",
        "# Rename the columns\n",
        "sayo_df.rename(columns=column_mapping, inplace=True)\n",
        "\n",
        "# we can't get the snoring range and limb movement rate, getting rid of those columns\n",
        "sayo_df = sayo_df.drop(columns=['sr', 'lm', 'rr', 'hr'])\n",
        "\n",
        "\n",
        "# Display the renamed DataFrame\n",
        "print(sayo_df)"
      ],
      "metadata": {
        "colab": {
          "base_uri": "https://localhost:8080/"
        },
        "id": "xw29ccyVYmSs",
        "outputId": "7c340aff-399a-4196-d9db-db943db52471"
      },
      "execution_count": 5,
      "outputs": [
        {
          "output_type": "stream",
          "name": "stdout",
          "text": [
            "     body temperature  blood oxygen levels     rem  number of hours of sleep  \\\n",
            "0              91.840               89.840   99.60                     1.840   \n",
            "1              91.552               89.552   98.88                     1.552   \n",
            "2              96.000               95.000   85.00                     7.000   \n",
            "3              90.768               88.768   96.92                     0.768   \n",
            "4              97.872               96.248   72.48                     8.248   \n",
            "..                ...                  ...     ...                       ...   \n",
            "625            92.960               90.960   89.80                     3.440   \n",
            "626            98.064               96.376   73.76                     8.376   \n",
            "627            86.880               84.256  101.88                     0.000   \n",
            "628            95.728               94.592   84.32                     6.728   \n",
            "629            93.392               91.392   91.96                     4.088   \n",
            "\n",
            "     sl  \n",
            "0     2  \n",
            "1     2  \n",
            "2     1  \n",
            "3     2  \n",
            "4     0  \n",
            "..   ..  \n",
            "625   1  \n",
            "626   0  \n",
            "627   2  \n",
            "628   1  \n",
            "629   1  \n",
            "\n",
            "[630 rows x 5 columns]\n"
          ]
        }
      ]
    },
    {
      "cell_type": "code",
      "source": [
        "# now we want to create a 80-20 train -test split\n",
        "X_sayo = sayo_df.drop(columns=['sl'])\n",
        "y_sayo = sayo_df['sl']\n",
        "X_sayo_train, X_sayo_test, y_sayo_train, y_sayo_test = train_test_split(\n",
        "    X_sayo, y_sayo, test_size=0.2, random_state=42)"
      ],
      "metadata": {
        "id": "TvDsYf3zaRtz"
      },
      "execution_count": 6,
      "outputs": []
    },
    {
      "cell_type": "code",
      "source": [
        "print(X_sayo_train.shape)\n",
        "print(X_sayo_test.shape)\n",
        "print(y_sayo_train.shape)\n",
        "print(y_sayo_test.shape)\n",
        "print(type(y_sayo))"
      ],
      "metadata": {
        "colab": {
          "base_uri": "https://localhost:8080/"
        },
        "id": "KTRkDtiZnRQl",
        "outputId": "c655a095-c4e1-430f-e7e8-adb1577a9cd2"
      },
      "execution_count": 7,
      "outputs": [
        {
          "output_type": "stream",
          "name": "stdout",
          "text": [
            "(504, 4)\n",
            "(126, 4)\n",
            "(504,)\n",
            "(126,)\n",
            "<class 'pandas.core.series.Series'>\n"
          ]
        }
      ]
    },
    {
      "cell_type": "code",
      "source": [
        "swell_concat = pd.concat([swell_df_train, swell_df_test], axis = 0)\n",
        "X_swell_concat = swell_concat.drop(swell_concat.columns[-1], axis=1)\n",
        "y_swell_concat = swell_concat.iloc[:, -1]\n",
        "X_swell_train, X_swell_test, y_swell_train, y_swell_test = train_test_split(\n",
        "    X_swell_concat, y_swell_concat, test_size=0.2, random_state=42)"
      ],
      "metadata": {
        "id": "MZiAo6bHavKn"
      },
      "execution_count": 8,
      "outputs": []
    },
    {
      "cell_type": "code",
      "source": [
        "print(X_swell_train.shape)\n",
        "print(X_swell_test.shape)\n",
        "print(y_swell_train.shape)\n",
        "print(y_swell_test.shape)"
      ],
      "metadata": {
        "colab": {
          "base_uri": "https://localhost:8080/"
        },
        "id": "bsl0ggv2nQr_",
        "outputId": "0b331479-aaab-4e2e-c12f-30e65838bc94"
      },
      "execution_count": 9,
      "outputs": [
        {
          "output_type": "stream",
          "name": "stdout",
          "text": [
            "(328257, 35)\n",
            "(82065, 35)\n",
            "(328257,)\n",
            "(82065,)\n"
          ]
        }
      ]
    },
    {
      "cell_type": "markdown",
      "source": [
        "Training Models"
      ],
      "metadata": {
        "id": "RnuWNJxegMNn"
      }
    },
    {
      "cell_type": "code",
      "source": [
        "# # using grid search to find the best n_estimators hyperparameter for swell\n",
        "# from sklearn.model_selection import GridSearchCV\n",
        "# from sklearn.ensemble import RandomForestClassifier\n",
        "\n",
        "# # Define the parameter grid\n",
        "# param_grid = {'n_estimators': [50, 100, 200, 300, 400, 500]}\n",
        "\n",
        "# # Initialize the Random Forest classifier\n",
        "# rf = RandomForestClassifier(random_state=42)\n",
        "\n",
        "# # Perform grid search with cross-validation\n",
        "# grid_search_swell = GridSearchCV(estimator=rf, param_grid=param_grid, cv=5)\n",
        "# grid_search_swell.fit(X_swell_train, y_swell_train)\n",
        "\n",
        "# # Best parameter value for n_estimators\n",
        "# best_n_estimators = grid_search_swell.best_params_['n_estimators']\n",
        "# print(f'Best n_estimators for swell df: {best_n_estimators}')"
      ],
      "metadata": {
        "id": "AvPNIUHKg_ox"
      },
      "execution_count": 10,
      "outputs": []
    },
    {
      "cell_type": "code",
      "source": [
        "# # using grid search to find the best n_estimators hyperparameter for sayo\n",
        "# # Define the parameter grid\n",
        "# param_grid = {'n_estimators': [50, 100, 200, 300, 400, 500]}\n",
        "\n",
        "# # Initialize the Random Forest classifier\n",
        "# rf = RandomForestClassifier(random_state=42)\n",
        "\n",
        "# # Perform grid search with cross-validation\n",
        "# grid_search_sayo = GridSearchCV(estimator=rf, param_grid=param_grid, cv=5)\n",
        "# grid_search_sayo.fit(X_sayo_train, y_sayo_train)\n",
        "\n",
        "# # Best parameter value for n_estimators\n",
        "# best_n_estimators_sayo = grid_search_sayo.best_params_['n_estimators']\n",
        "# print(f'Best n_estimators for sayo df: {best_n_estimators}')"
      ],
      "metadata": {
        "id": "oqAQ-s5zhuWM"
      },
      "execution_count": 11,
      "outputs": []
    },
    {
      "cell_type": "code",
      "source": [
        "# swell\n",
        "from sklearn.ensemble import RandomForestClassifier\n",
        "\n",
        "model1 = RandomForestClassifier(n_estimators=100, random_state=42)\n",
        "model1.fit(X_swell_train, y_swell_train)\n",
        "\n",
        "\n",
        "# sayo\n",
        "model2 = RandomForestClassifier(n_estimators=100, random_state=42)\n",
        "model2.fit(X_sayo_train, y_sayo_train)"
      ],
      "metadata": {
        "colab": {
          "base_uri": "https://localhost:8080/",
          "height": 75
        },
        "id": "6b8Q9pXgb1m8",
        "outputId": "4c7a886f-ba26-4967-c2b9-016a222fb0d7"
      },
      "execution_count": 12,
      "outputs": [
        {
          "output_type": "execute_result",
          "data": {
            "text/plain": [
              "RandomForestClassifier(random_state=42)"
            ],
            "text/html": [
              "<style>#sk-container-id-1 {color: black;background-color: white;}#sk-container-id-1 pre{padding: 0;}#sk-container-id-1 div.sk-toggleable {background-color: white;}#sk-container-id-1 label.sk-toggleable__label {cursor: pointer;display: block;width: 100%;margin-bottom: 0;padding: 0.3em;box-sizing: border-box;text-align: center;}#sk-container-id-1 label.sk-toggleable__label-arrow:before {content: \"▸\";float: left;margin-right: 0.25em;color: #696969;}#sk-container-id-1 label.sk-toggleable__label-arrow:hover:before {color: black;}#sk-container-id-1 div.sk-estimator:hover label.sk-toggleable__label-arrow:before {color: black;}#sk-container-id-1 div.sk-toggleable__content {max-height: 0;max-width: 0;overflow: hidden;text-align: left;background-color: #f0f8ff;}#sk-container-id-1 div.sk-toggleable__content pre {margin: 0.2em;color: black;border-radius: 0.25em;background-color: #f0f8ff;}#sk-container-id-1 input.sk-toggleable__control:checked~div.sk-toggleable__content {max-height: 200px;max-width: 100%;overflow: auto;}#sk-container-id-1 input.sk-toggleable__control:checked~label.sk-toggleable__label-arrow:before {content: \"▾\";}#sk-container-id-1 div.sk-estimator input.sk-toggleable__control:checked~label.sk-toggleable__label {background-color: #d4ebff;}#sk-container-id-1 div.sk-label input.sk-toggleable__control:checked~label.sk-toggleable__label {background-color: #d4ebff;}#sk-container-id-1 input.sk-hidden--visually {border: 0;clip: rect(1px 1px 1px 1px);clip: rect(1px, 1px, 1px, 1px);height: 1px;margin: -1px;overflow: hidden;padding: 0;position: absolute;width: 1px;}#sk-container-id-1 div.sk-estimator {font-family: monospace;background-color: #f0f8ff;border: 1px dotted black;border-radius: 0.25em;box-sizing: border-box;margin-bottom: 0.5em;}#sk-container-id-1 div.sk-estimator:hover {background-color: #d4ebff;}#sk-container-id-1 div.sk-parallel-item::after {content: \"\";width: 100%;border-bottom: 1px solid gray;flex-grow: 1;}#sk-container-id-1 div.sk-label:hover label.sk-toggleable__label {background-color: #d4ebff;}#sk-container-id-1 div.sk-serial::before {content: \"\";position: absolute;border-left: 1px solid gray;box-sizing: border-box;top: 0;bottom: 0;left: 50%;z-index: 0;}#sk-container-id-1 div.sk-serial {display: flex;flex-direction: column;align-items: center;background-color: white;padding-right: 0.2em;padding-left: 0.2em;position: relative;}#sk-container-id-1 div.sk-item {position: relative;z-index: 1;}#sk-container-id-1 div.sk-parallel {display: flex;align-items: stretch;justify-content: center;background-color: white;position: relative;}#sk-container-id-1 div.sk-item::before, #sk-container-id-1 div.sk-parallel-item::before {content: \"\";position: absolute;border-left: 1px solid gray;box-sizing: border-box;top: 0;bottom: 0;left: 50%;z-index: -1;}#sk-container-id-1 div.sk-parallel-item {display: flex;flex-direction: column;z-index: 1;position: relative;background-color: white;}#sk-container-id-1 div.sk-parallel-item:first-child::after {align-self: flex-end;width: 50%;}#sk-container-id-1 div.sk-parallel-item:last-child::after {align-self: flex-start;width: 50%;}#sk-container-id-1 div.sk-parallel-item:only-child::after {width: 0;}#sk-container-id-1 div.sk-dashed-wrapped {border: 1px dashed gray;margin: 0 0.4em 0.5em 0.4em;box-sizing: border-box;padding-bottom: 0.4em;background-color: white;}#sk-container-id-1 div.sk-label label {font-family: monospace;font-weight: bold;display: inline-block;line-height: 1.2em;}#sk-container-id-1 div.sk-label-container {text-align: center;}#sk-container-id-1 div.sk-container {/* jupyter's `normalize.less` sets `[hidden] { display: none; }` but bootstrap.min.css set `[hidden] { display: none !important; }` so we also need the `!important` here to be able to override the default hidden behavior on the sphinx rendered scikit-learn.org. See: https://github.com/scikit-learn/scikit-learn/issues/21755 */display: inline-block !important;position: relative;}#sk-container-id-1 div.sk-text-repr-fallback {display: none;}</style><div id=\"sk-container-id-1\" class=\"sk-top-container\"><div class=\"sk-text-repr-fallback\"><pre>RandomForestClassifier(random_state=42)</pre><b>In a Jupyter environment, please rerun this cell to show the HTML representation or trust the notebook. <br />On GitHub, the HTML representation is unable to render, please try loading this page with nbviewer.org.</b></div><div class=\"sk-container\" hidden><div class=\"sk-item\"><div class=\"sk-estimator sk-toggleable\"><input class=\"sk-toggleable__control sk-hidden--visually\" id=\"sk-estimator-id-1\" type=\"checkbox\" checked><label for=\"sk-estimator-id-1\" class=\"sk-toggleable__label sk-toggleable__label-arrow\">RandomForestClassifier</label><div class=\"sk-toggleable__content\"><pre>RandomForestClassifier(random_state=42)</pre></div></div></div></div></div>"
            ]
          },
          "metadata": {},
          "execution_count": 12
        }
      ]
    },
    {
      "cell_type": "markdown",
      "source": [
        "Computing Accuracy"
      ],
      "metadata": {
        "id": "MsvKVUUagauc"
      }
    },
    {
      "cell_type": "code",
      "source": [
        "from sklearn.metrics import accuracy_score\n",
        "y_swell_pred = model1.predict(X_swell_test)\n",
        "y_sayo_pred = model2.predict(X_sayo_test)\n",
        "\n",
        "# Calculate accuracy for each model\n",
        "accuracy_swell = accuracy_score(y_swell_test, y_swell_pred)\n",
        "accuracy_sayo = accuracy_score(y_sayo_test, y_sayo_pred)\n",
        "\n",
        "\n",
        "print(f'Accuracy for swell df: {accuracy_swell}')\n",
        "print(f'Accuracy for sayo df: {accuracy_sayo}')"
      ],
      "metadata": {
        "colab": {
          "base_uri": "https://localhost:8080/"
        },
        "id": "vlkfHx5Xgc4w",
        "outputId": "d4241720-b930-46d5-a529-2a8e1cd08a2c"
      },
      "execution_count": 13,
      "outputs": [
        {
          "output_type": "stream",
          "name": "stdout",
          "text": [
            "Accuracy for swell df: 1.0\n",
            "Accuracy for sayo df: 0.9841269841269841\n"
          ]
        }
      ]
    },
    {
      "cell_type": "markdown",
      "source": [
        "Converting Trained Models to XCode Supported Format"
      ],
      "metadata": {
        "id": "jrPkbvqM6oKq"
      }
    },
    {
      "cell_type": "code",
      "source": [
        "model1_mlmodel = ct.converters.sklearn.convert(model1)\n",
        "model1_mlmodel.save('model_1.mlmodel')\n",
        "\n",
        "model2_mlmodel = ct.converters.sklearn.convert(model2)\n",
        "model2_mlmodel.save('model_2.mlmodel')"
      ],
      "metadata": {
        "colab": {
          "base_uri": "https://localhost:8080/"
        },
        "id": "4eUAu3Ye69cw",
        "outputId": "cb3bf1af-305d-4b41-d341-2afc5679c3db"
      },
      "execution_count": 14,
      "outputs": [
        {
          "output_type": "stream",
          "name": "stderr",
          "text": [
            "/usr/local/lib/python3.10/dist-packages/sklearn/utils/deprecation.py:103: FutureWarning: Attribute `n_features_` was deprecated in version 1.0 and will be removed in 1.2. Use `n_features_in_` instead.\n",
            "  warnings.warn(msg, category=FutureWarning)\n"
          ]
        }
      ]
    }
  ]
}